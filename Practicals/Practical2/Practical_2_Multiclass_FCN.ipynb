{
  "nbformat": 4,
  "nbformat_minor": 0,
  "metadata": {
    "colab": {
      "provenance": [],
      "machine_shape": "hm",
      "gpuType": "T4",
      "include_colab_link": true
    },
    "kernelspec": {
      "name": "python3",
      "display_name": "Python 3"
    },
    "language_info": {
      "name": "python"
    },
    "accelerator": "GPU"
  },
  "cells": [
    {
      "cell_type": "markdown",
      "metadata": {
        "id": "view-in-github",
        "colab_type": "text"
      },
      "source": [
        "<a href=\"https://colab.research.google.com/github/MangoGrove/MangoGrove.github.io/blob/main/Practicals/Practical2/Practical_2_Multiclass_FCN.ipynb\" target=\"_parent\"><img src=\"https://colab.research.google.com/assets/colab-badge.svg\" alt=\"Open In Colab\"/></a>"
      ]
    },
    {
      "cell_type": "markdown",
      "source": [
        "# CSE 40868: Neural Networks - Spring 2025\n",
        "\n",
        "## Practical Session 2 - Wine Classification with a Fully Connected Neural Network in PyTorch\n",
        "\n",
        "Author: Benjamin Sporrer\n",
        "\n",
        "_New: February 10, 2025_\n",
        "\n",
        "Logistics:\n",
        " * Using the \"File > Save to Github\" menu above, save a copy of this notebook to your class Github repo. Maks sure you save it  in the `Practicals/Practical2` folder by prepending `Practicals/Practical2/` to the notebook file name.\n",
        " * Study and run the notebook *before class on February 10*.\n",
        " * Arrive in class ready to do some of the work required.\n",
        " * Finish up your work and commit the changes to your repo, and finish the work by 11:59pm on Monday, February 10th."
      ],
      "metadata": {
        "id": "VJs5mAVOd_XT"
      }
    },
    {
      "cell_type": "markdown",
      "source": [
        "# Provided material"
      ],
      "metadata": {
        "id": "Uzq-docGercd"
      }
    },
    {
      "cell_type": "markdown",
      "source": [
        "## 1. Import\n",
        "\n",
        "If you add additional imports put them here."
      ],
      "metadata": {
        "id": "Duq3eYDrexdN"
      }
    },
    {
      "cell_type": "code",
      "source": [
        "## Import necessary libraries\n",
        "import torch\n",
        "import torch.nn as nn\n",
        "import torch.optim as optim\n",
        "import torch.nn.functional as F\n",
        "from torch.utils.data import DataLoader, TensorDataset\n",
        "import pandas as pd\n",
        "import numpy as np\n",
        "import matplotlib.pyplot as plt\n",
        "from sklearn.model_selection import train_test_split\n",
        "from sklearn.preprocessing import StandardScaler, LabelEncoder\n",
        "from tqdm import tqdm"
      ],
      "metadata": {
        "id": "rTp4NSzoGUOs"
      },
      "execution_count": 1,
      "outputs": []
    },
    {
      "cell_type": "markdown",
      "source": [
        "## 2. Set Device"
      ],
      "metadata": {
        "id": "4Lzg857MfKoi"
      }
    },
    {
      "cell_type": "code",
      "source": [
        "# Check if GPU is available and set the device\n",
        "device = torch.device(\"cuda\" if torch.cuda.is_available() else \"cpu\")\n",
        "print(f\"Using device: {device}\")"
      ],
      "metadata": {
        "id": "5UFTcjkqocRK",
        "colab": {
          "base_uri": "https://localhost:8080/"
        },
        "outputId": "2e6506f4-bc05-4404-8977-e5949eef4412"
      },
      "execution_count": 2,
      "outputs": [
        {
          "output_type": "stream",
          "name": "stdout",
          "text": [
            "Using device: cuda\n"
          ]
        }
      ]
    },
    {
      "cell_type": "markdown",
      "source": [
        "## 3. Load the dataset\n",
        "\n",
        "The dataset is available from the UCI Machine Learning Repository.\n",
        "\n",
        "It consists of 13 numerical features related to different wine attributes, and a target variable representing the wine class (1, 2, or 3). Here, the class corresponds to the cultivar (grape plant family) used in wine production.\n",
        "\n",
        "For additional information please see the offical dataset [webpage](https://archive.ics.uci.edu/dataset/109/wine)."
      ],
      "metadata": {
        "id": "oQWBbMsFfsNu"
      }
    },
    {
      "cell_type": "code",
      "source": [
        "# Load the dataset\n",
        "url = \"https://archive.ics.uci.edu/ml/machine-learning-databases/wine/wine.data\"\n",
        "data = pd.read_csv(url, header=None)\n",
        "\n",
        "# Print sample data before processing\n",
        "print(\"Sample raw data:\")\n",
        "print(data.head())"
      ],
      "metadata": {
        "id": "ohR8258SWAtJ",
        "colab": {
          "base_uri": "https://localhost:8080/"
        },
        "outputId": "7336c8a5-ddb4-49d8-e787-e22232bb3611"
      },
      "execution_count": 3,
      "outputs": [
        {
          "output_type": "stream",
          "name": "stdout",
          "text": [
            "Sample raw data:\n",
            "   0      1     2     3     4    5     6     7     8     9     10    11    12  \\\n",
            "0   1  14.23  1.71  2.43  15.6  127  2.80  3.06  0.28  2.29  5.64  1.04  3.92   \n",
            "1   1  13.20  1.78  2.14  11.2  100  2.65  2.76  0.26  1.28  4.38  1.05  3.40   \n",
            "2   1  13.16  2.36  2.67  18.6  101  2.80  3.24  0.30  2.81  5.68  1.03  3.17   \n",
            "3   1  14.37  1.95  2.50  16.8  113  3.85  3.49  0.24  2.18  7.80  0.86  3.45   \n",
            "4   1  13.24  2.59  2.87  21.0  118  2.80  2.69  0.39  1.82  4.32  1.04  2.93   \n",
            "\n",
            "     13  \n",
            "0  1065  \n",
            "1  1050  \n",
            "2  1185  \n",
            "3  1480  \n",
            "4   735  \n"
          ]
        }
      ]
    },
    {
      "cell_type": "markdown",
      "source": [
        "## 4. Extract features and labels\n",
        "\n",
        "Features: The dataset contains 13 chemical attributes of wine.\n",
        "\n",
        "Labels: The first column represents the wine class (1, 2, or 3)."
      ],
      "metadata": {
        "id": "WkaLcWLYhH7P"
      }
    },
    {
      "cell_type": "code",
      "source": [
        "# Create X and y variable to store the features and labels\n",
        "X = data.iloc[:, 1:].values  # Extract all columns except the first as features\n",
        "y = data.iloc[:, 0].values   # Extract the first column as labels\n",
        "\n",
        "# Print size and examples\n",
        "print(\"Features (X) shape:\", X.shape)  # Should be (178, 13)\n",
        "print(\"Labels (y) shape:\", y.shape)    # Should be (178,)\n",
        "\n",
        "# Print some examples\n",
        "print(\"\\nFirst  rows of Features (X):\\n\", X[:5])\n",
        "print(\"\\nFirst 5 Labels (y):\\n\", y[:5])\n",
        "\n",
        "# Check to ensure y variable includes all of the expected labels\n",
        "print(\"\\nUnique Labels (y):\\n\", set(y))"
      ],
      "metadata": {
        "id": "JN5-tz83WOFP",
        "colab": {
          "base_uri": "https://localhost:8080/"
        },
        "outputId": "0c5a3782-acf9-4f93-ee0c-fed495ea62ca"
      },
      "execution_count": 4,
      "outputs": [
        {
          "output_type": "stream",
          "name": "stdout",
          "text": [
            "Features (X) shape: (178, 13)\n",
            "Labels (y) shape: (178,)\n",
            "\n",
            "First  rows of Features (X):\n",
            " [[1.423e+01 1.710e+00 2.430e+00 1.560e+01 1.270e+02 2.800e+00 3.060e+00\n",
            "  2.800e-01 2.290e+00 5.640e+00 1.040e+00 3.920e+00 1.065e+03]\n",
            " [1.320e+01 1.780e+00 2.140e+00 1.120e+01 1.000e+02 2.650e+00 2.760e+00\n",
            "  2.600e-01 1.280e+00 4.380e+00 1.050e+00 3.400e+00 1.050e+03]\n",
            " [1.316e+01 2.360e+00 2.670e+00 1.860e+01 1.010e+02 2.800e+00 3.240e+00\n",
            "  3.000e-01 2.810e+00 5.680e+00 1.030e+00 3.170e+00 1.185e+03]\n",
            " [1.437e+01 1.950e+00 2.500e+00 1.680e+01 1.130e+02 3.850e+00 3.490e+00\n",
            "  2.400e-01 2.180e+00 7.800e+00 8.600e-01 3.450e+00 1.480e+03]\n",
            " [1.324e+01 2.590e+00 2.870e+00 2.100e+01 1.180e+02 2.800e+00 2.690e+00\n",
            "  3.900e-01 1.820e+00 4.320e+00 1.040e+00 2.930e+00 7.350e+02]]\n",
            "\n",
            "First 5 Labels (y):\n",
            " [1 1 1 1 1]\n",
            "\n",
            "Unique Labels (y):\n",
            " {1, 2, 3}\n"
          ]
        }
      ]
    },
    {
      "cell_type": "markdown",
      "source": [
        "## 5. Encode labels"
      ],
      "metadata": {
        "id": "-ijaojUYiJVZ"
      }
    },
    {
      "cell_type": "code",
      "source": [
        "# Since the labels are 1, 2, or 3, we need to convert them into zero-based indices (0, 1, 2)\n",
        "label_encoder = LabelEncoder()\n",
        "y = label_encoder.fit_transform(y)\n",
        "\n",
        "# Print some examples\n",
        "print(\"\\nFirst 5 Labels (y):\\n\", y[:5])\n",
        "\n",
        "# Check to ensure y variable includes all of the expected labels (Now 0, 1, 2)\n",
        "print(\"\\nUnique Labels (y):\\n\", set(y))"
      ],
      "metadata": {
        "id": "ftRFq8CLWPMX",
        "colab": {
          "base_uri": "https://localhost:8080/"
        },
        "outputId": "5dc601ef-56e4-455e-b900-1cf219ca0e15"
      },
      "execution_count": 5,
      "outputs": [
        {
          "output_type": "stream",
          "name": "stdout",
          "text": [
            "\n",
            "First 5 Labels (y):\n",
            " [0 0 0 0 0]\n",
            "\n",
            "Unique Labels (y):\n",
            " {0, 1, 2}\n"
          ]
        }
      ]
    },
    {
      "cell_type": "markdown",
      "source": [
        "## 6. Split into training and testing datasets\n",
        "\n",
        "We allocate 80% of the data for training and 20% for testing."
      ],
      "metadata": {
        "id": "q1Jk1iAui6Ha"
      }
    },
    {
      "cell_type": "code",
      "source": [
        "# The random_state parameter ensures that the split is reproducible. Without random_state, you will get different splits each time. With random_state=42, the split remains the same every time you run the code.\n",
        "\n",
        "# The stratify=y argument ensures that the class distribution in the training and test sets is the same as in the original dataset.\n",
        "# For example, if the dataset has 50% class 1, 30% class 2, and 20% class 3, then both the training and testing sets will maintain the same proportions.\n",
        "\n",
        "X_train, X_test, y_train, y_test = train_test_split(X, y, test_size=0.2, random_state=42, stratify=y)"
      ],
      "metadata": {
        "id": "Z-Rlq7zjWRmM"
      },
      "execution_count": 6,
      "outputs": []
    },
    {
      "cell_type": "markdown",
      "source": [
        "## 7. Standardize features"
      ],
      "metadata": {
        "id": "js6jkSWyjRq8"
      }
    },
    {
      "cell_type": "code",
      "source": [
        "# Neural networks perform better with normalized inputs, so we use StandardScaler to transform each feature to have zero mean and unit variance.\n",
        "scaler = StandardScaler()\n",
        "X_train = scaler.fit_transform(X_train)\n",
        "X_test = scaler.transform(X_test)\n",
        "\n",
        "# Print sample data after preprocessing\n",
        "print(\"\\nSample processed data:\")\n",
        "print(pd.DataFrame(X_train).head())"
      ],
      "metadata": {
        "id": "EQ30OS-6WYfo",
        "colab": {
          "base_uri": "https://localhost:8080/"
        },
        "outputId": "975e9403-7984-4a5d-a4a1-7d5ab3a767ac"
      },
      "execution_count": 7,
      "outputs": [
        {
          "output_type": "stream",
          "name": "stdout",
          "text": [
            "\n",
            "Sample processed data:\n",
            "         0         1         2         3         4         5         6   \\\n",
            "0  0.385801 -0.637871  1.776668 -1.224532  0.696430  0.526865  0.732292   \n",
            "1  0.948519 -0.765445  1.253174  0.853284  0.091785  1.172795  1.333181   \n",
            "2  0.523354 -0.519409  0.954034 -1.046433 -0.445678  0.930572  1.006382   \n",
            "3  0.973529 -0.555859  0.168793 -1.076116 -0.714409  0.526865  0.816627   \n",
            "4  0.435820  0.820120  0.056615  0.556453 -0.512860 -0.555068 -1.291756   \n",
            "\n",
            "         7         8         9         10        11        12  \n",
            "0 -0.169549 -0.415783 -0.167467  0.624378  0.252908  0.467725  \n",
            "1 -0.590457  1.349742  0.305303  1.067155  0.151048  1.815768  \n",
            "2 -0.169549 -0.260002 -0.081509 -0.128343  0.893172  1.516203  \n",
            "3 -0.590457  0.363125  0.262324  0.890044  0.427526  1.932265  \n",
            "4  0.756449 -0.606183  1.474335 -1.766619 -1.435059 -0.297831  \n"
          ]
        }
      ]
    },
    {
      "cell_type": "markdown",
      "source": [
        "## 8. Convert data to PyTorch tensors\n",
        "\n",
        "In order to utilize a GPU you must remember to move the tensor to the devivce."
      ],
      "metadata": {
        "id": "a4u1W6-hjjLo"
      }
    },
    {
      "cell_type": "code",
      "source": [
        "# PyTorch models require inputs as tensors, so we convert our NumPy arrays.\n",
        "X_train_tensor = torch.tensor(X_train, dtype=torch.float32).to(device)\n",
        "X_test_tensor = torch.tensor(X_test, dtype=torch.float32).to(device)\n",
        "y_train_tensor = torch.tensor(y_train, dtype=torch.long).to(device)\n",
        "y_test_tensor = torch.tensor(y_test, dtype=torch.long).to(device)"
      ],
      "metadata": {
        "id": "b-PiuqWVWejv"
      },
      "execution_count": 8,
      "outputs": []
    },
    {
      "cell_type": "markdown",
      "source": [
        "## 9. Create DataLoaders Function\n",
        "\n",
        "Note the use of the shuffle parameter.\n",
        "\n",
        "### shuffle=True\n",
        "\n",
        "*   **Randomizing Order**: It ensures that the data samples are not fed into the model in the same order during each epoch. This helps in reducing bias in learning.\n",
        "*   **Better Generalization**: Shuffling prevents the model from memorizing the order of data, improving its ability to generalize to unseen data.\n",
        "*   **Prevents Overfitting**: If the data is ordered (e.g., all samples of one class are together), the model may learn patterns specific to that order instead of actual data features.\n",
        "*   **Use During Training**: Always recommended, as it helps in breaking any potential order dependencies.\n",
        "\n",
        "### shuffle=False:\n",
        "\n",
        "*   **Use During Validation/Test**: Generally set to False because you want consistent evaluation results.\n"
      ],
      "metadata": {
        "id": "hResnaoej-8X"
      }
    },
    {
      "cell_type": "code",
      "source": [
        "def create_dataloaders(X_train, y_train, X_test, y_test, batch_size):\n",
        "    \"\"\"\n",
        "    Creates DataLoaders for training and testing datasets.\n",
        "\n",
        "    Args:\n",
        "        X_train (torch.Tensor): Training features tensor.\n",
        "        y_train (torch.Tensor): Training labels tensor.\n",
        "        X_test (torch.Tensor): Test features tensor.\n",
        "        y_test (torch.Tensor): Test labels tensor.\n",
        "        batch_size (int): Batch size for DataLoader.\n",
        "\n",
        "    Returns:\n",
        "        tuple: (train_loader, test_loader)\n",
        "    \"\"\"\n",
        "    train_dataset = TensorDataset(X_train, y_train)\n",
        "    test_dataset = TensorDataset(X_test, y_test)\n",
        "\n",
        "    train_loader = DataLoader(train_dataset, batch_size=batch_size, shuffle=True)\n",
        "    test_loader = DataLoader(test_dataset, batch_size=batch_size, shuffle=False)\n",
        "\n",
        "    return train_loader, test_loader"
      ],
      "metadata": {
        "id": "oaxciScuWfrS"
      },
      "execution_count": 9,
      "outputs": []
    },
    {
      "cell_type": "markdown",
      "source": [
        "## 10. Define the Fully Connected Neural Network (FCNN)\n",
        "\n",
        "The model consists of an input layer, one hidden layer with ReLU activation, and an output layer with the number of classes."
      ],
      "metadata": {
        "id": "sWEKK_inlu_J"
      }
    },
    {
      "cell_type": "code",
      "source": [
        "class WineClassifier(nn.Module):\n",
        "    def __init__(self, input_dim, hidden_dim, output_dim):\n",
        "        super(WineClassifier, self).__init__()\n",
        "        self.fc1 = nn.Linear(input_dim, hidden_dim)  # First fully connected layer\n",
        "        self.relu = nn.ReLU()  # Activation function (ReLU helps introduce non-linearity)\n",
        "        self.fc2 = nn.Linear(hidden_dim, output_dim)  # Output layer\n",
        "\n",
        "    def forward(self, x):\n",
        "        x = self.relu(self.fc1(x))  # Apply first layer and activation\n",
        "        x = self.fc2(x)  # Output layer (no activation since we will use CrossEntropyLoss)\n",
        "        return x"
      ],
      "metadata": {
        "id": "QEGrxbQsWhXd"
      },
      "execution_count": 10,
      "outputs": []
    },
    {
      "cell_type": "markdown",
      "source": [
        "## 11. Define Loss Function and Optimizer\n",
        "\n",
        "\n",
        "### Cross-Entropy Loss\n",
        "\n",
        "This model anticipates and is structured to use Cross Entropy Loss. This loss is typical for multi-class classification, because it penalizes incorrect confidence well. If the model assigns a low probability to the correct class, the loss is high. Addtionally, if the model is overconfident but wrong, it is severely penalized.\n",
        "\n",
        "Cross-Entropy requires raw logits as input, so there is no activation function after the second fully connected layer in our model. It doesn't need one because it applies softmax internally to compute class probabilities."
      ],
      "metadata": {
        "id": "BH_SIczIov4o"
      }
    },
    {
      "cell_type": "code",
      "source": [
        "# CrossEntropyLoss is used for multi-class classification.\n",
        "\n",
        "criterion = nn.CrossEntropyLoss()\n",
        "\n",
        "# We establish a list to house the optimizer names we plan to use. In this provided example we are only using \"Adam\", which is chosen for adaptive learning rate optiization.\n",
        "optimizer_names = [\"Adam\"]\n",
        "\n",
        "# This function is designed to create optimizers dynamically.\n",
        "# If you create optimizers before defining the model, they won’t have valid parameters.\n",
        "# By using lambdas, each optimizer gets initialized after the model is created.\n",
        "def get_optimizer(name, model, learning_rate):\n",
        "    optimizers = {\n",
        "        \"Adam\": lambda: optim.Adam(model.parameters(), lr=learning_rate)\n",
        "    }\n",
        "    return optimizers.get(name, lambda: None)()  # Returns None if name is invalid"
      ],
      "metadata": {
        "id": "aFm75jJuWmEk"
      },
      "execution_count": 11,
      "outputs": []
    },
    {
      "cell_type": "markdown",
      "source": [
        "## 11. Create the training function\n",
        "\n",
        "### Progress Bar\n",
        "\n",
        "It is good practice to utilize a progress bar via `tqdm` when training neural networks. Here I commented the progress bar out because the the training is extremely fast due to the size of the data. With only nine batches per epoch the progress bar completes almost instantly and thus is unnecessary. Instead the model logs the loss at every ttenth interval.\n",
        "\n",
        "### Moving Batches to the GPU\n",
        "\n",
        "Note that PyTorch's `DataLoader` creates new batches on the fly. This means that even though we moved the entire dataset to the GPU above that the batches loaded dynamically are not automatically on the GPU. To avoid device errors make sure to always move the batches to the GPU as well as the dataset."
      ],
      "metadata": {
        "id": "xuvQgJeDsZM3"
      }
    },
    {
      "cell_type": "code",
      "source": [
        "def train_model(model, train_loader, criterion, optimizer, epochs=50, log_interval=10):\n",
        "    \"\"\"\n",
        "    Trains a PyTorch model.\n",
        "\n",
        "    Args:\n",
        "        model (torch.nn.Module): The model to be trained.\n",
        "        train_loader (torch.utils.data.DataLoader): DataLoader for the training dataset.\n",
        "        criterion (torch.nn.Module): Loss function.\n",
        "        optimizer (torch.optim.Optimizer): Optimizer for updating model parameters.\n",
        "        epochs (int, optional): Number of training epochs. Defaults to variable establish in future block.\n",
        "        log_interval (int, optional): Frequency (in epochs) of printing the loss. Defaults to 10.\n",
        "\n",
        "    Returns:\n",
        "        list: Training loss history over epochs.\n",
        "    \"\"\"\n",
        "    losses = []  # Store loss for visualization\n",
        "\n",
        "    for epoch in range(epochs):\n",
        "        model.train()  # Set model to training mode\n",
        "        total_loss = 0\n",
        "\n",
        "        # Create a progress bar for training using tqdm\n",
        "        #progress_bar = tqdm(train_loader, desc=f\"Epoch {epoch+1}/{epochs}\", leave=False)\n",
        "\n",
        "        #for batch_x, batch_y in progress_bar: # Commented out, but this would be the needed syntax when utilizing a progeress bar\n",
        "\n",
        "        for batch_X, batch_y in train_loader:  # Loop through mini-batches\n",
        "            batch_X, batch_y = batch_X.to(device), batch_y.to(device)  # Move to GPU\n",
        "            optimizer.zero_grad()  # Reset gradients from the previous step\n",
        "            outputs = model(batch_X)  # Forward pass\n",
        "            loss = criterion(outputs, batch_y)  # Compute loss\n",
        "            loss.backward()  # Backpropagate gradients\n",
        "            optimizer.step()  # Update weights using optimizer\n",
        "            total_loss += loss.item()  # Accumulate loss\n",
        "\n",
        "        epoch_loss = total_loss / len(train_loader)\n",
        "        losses.append(epoch_loss)  # Store loss value\n",
        "\n",
        "        #progress_bar.set_postfix(loss=f\"{loss.item():.4f}\", lr=f\"{optimizer.param_groups[0]['lr']:.6f}\", refresh=True)\n",
        "\n",
        "        if (epoch + 1) % log_interval == 0:\n",
        "            print(f\"Epoch [{epoch+1}/{epochs}], Loss: {epoch_loss:.4f}\")\n",
        "\n",
        "    # Plot training loss\n",
        "    plt.plot(range(1, epochs+1), losses, label='Training Loss')\n",
        "    plt.xlabel('Epoch')\n",
        "    plt.ylabel('Loss')\n",
        "    plt.title('Training Loss over Epochs')\n",
        "    plt.legend()\n",
        "    plt.show()\n",
        "\n",
        "    return losses"
      ],
      "metadata": {
        "id": "NE8nkPCUWnoY"
      },
      "execution_count": 12,
      "outputs": []
    },
    {
      "cell_type": "markdown",
      "source": [
        "## 12. Creating the Evaluation Function\n",
        "\n",
        "### Moving Batches to the GPU\n",
        "\n",
        "Just like during training it is important to remember to move the batches to the GPU."
      ],
      "metadata": {
        "id": "AMauTTbpy5GQ"
      }
    },
    {
      "cell_type": "code",
      "source": [
        "def evaluate_model(model, test_loader, num_samples=5):\n",
        "    \"\"\"\n",
        "    Evaluates the model on a test dataset.\n",
        "\n",
        "    Args:\n",
        "        model (torch.nn.Module): The PyTorch model to evaluate.\n",
        "        test_loader (torch.utils.data.DataLoader): DataLoader for the test set.\n",
        "        num_samples (int, optional): Number of sample predictions to display. Defaults to 5.\n",
        "\n",
        "    Returns:\n",
        "        float: Test accuracy in percentage.\n",
        "        list: Sample outputs containing tuples of (actual_labels, predicted_labels).\n",
        "    \"\"\"\n",
        "    model.eval()\n",
        "    correct = 0\n",
        "    total = 0\n",
        "    sample_outputs = []\n",
        "\n",
        "    with torch.no_grad():\n",
        "        for batch_X, batch_y in test_loader:\n",
        "            batch_X, batch_y = batch_X.to(device), batch_y.to(device)  # Move to GPU\n",
        "            outputs = model(batch_X)  # Forward pass\n",
        "            _, predicted = torch.max(outputs, 1)  # Get class with highest probability\n",
        "            total += batch_y.size(0)  # Count total samples\n",
        "            correct += (predicted == batch_y).sum().item()  # Count correct predictions\n",
        "\n",
        "            # Collect all individual samples\n",
        "            sample_outputs.extend(zip(batch_y.tolist(), predicted.tolist()))\n",
        "\n",
        "    accuracy = 100 * correct / total\n",
        "    print(f'Accuracy on test set: {accuracy:.2f}%')\n",
        "\n",
        "    # Show individual predictions\n",
        "    print(\"\\nSample evaluation results:\")\n",
        "    for actual, pred in sample_outputs[:num_samples]:  # Only display `num_samples`\n",
        "        print(f\"Actual: {actual}, Predicted: {pred}\")\n",
        "\n",
        "    return accuracy, sample_outputs"
      ],
      "metadata": {
        "id": "mn9cwC4PWpxN"
      },
      "execution_count": 14,
      "outputs": []
    },
    {
      "cell_type": "markdown",
      "source": [
        "## 13. Set Model Hyperparameters"
      ],
      "metadata": {
        "id": "OGiJXbEY37t9"
      }
    },
    {
      "cell_type": "code",
      "source": [
        "## Set model parameters\n",
        "\n",
        "input_dim = X.shape[1]  # Number of features (13)\n",
        "hidden_dim = 32  # Number of neurons in the hidden layer (adjustable hyperparameter)\n",
        "output_dim = len(np.unique(y))  # Number of unique wine classes (3)\n",
        "num_epochs = 50  # The number of times the model will pass through the dataset (adjustable hyperparameter)\n",
        "batch_size = 16  # Number of images per training batch\n",
        "learning_rate = 0.01  # Speed at which the model learns"
      ],
      "metadata": {
        "id": "7q2QwRDFWjkn"
      },
      "execution_count": 15,
      "outputs": []
    },
    {
      "cell_type": "markdown",
      "source": [
        "## 14. Train and Test the Model"
      ],
      "metadata": {
        "id": "QCy-SCRL4QG2"
      }
    },
    {
      "cell_type": "code",
      "source": [
        "# Train and evaluate using different optimizers and loss functions\n",
        "# This loop resets the model for each optimizer and trains it from scratch\n",
        "\n",
        "dataloaders = create_dataloaders(X_train_tensor, y_train_tensor, X_test_tensor, y_test_tensor, batch_size)\n",
        "train_loader = dataloaders[0]\n",
        "test_loader = dataloaders[1]\n",
        "\n",
        "# Instantiate a new model for each optimizer, create the optimizer, train the model, and evaluate the model\n",
        "for name in optimizer_names:\n",
        "\n",
        "    print('-' * 200)\n",
        "    print('-' * 200)\n",
        "\n",
        "    # Instantiate model\n",
        "    model = WineClassifier(input_dim, hidden_dim, output_dim).to(device)\n",
        "\n",
        "    # Create Optimizer\n",
        "    optimizer = get_optimizer(name, model, learning_rate=learning_rate)\n",
        "    print(f\"Created {name} optimizer: {optimizer}\")\n",
        "\n",
        "    # Train Model\n",
        "    print(f\"Training {model}\")\n",
        "    train_model(model, train_loader, criterion, optimizer, num_epochs)\n",
        "\n",
        "    #Evaluate Model\n",
        "    print(f\"\\n\")\n",
        "    evaluate_model(model, test_loader, 10)\n",
        "\n",
        "    print('-' * 200)\n",
        "    print('-' * 200)"
      ],
      "metadata": {
        "id": "Rjz7t93cYDsd",
        "colab": {
          "base_uri": "https://localhost:8080/",
          "height": 1000
        },
        "outputId": "8f51c3f9-d1a9-4005-f109-836698722a64"
      },
      "execution_count": 16,
      "outputs": [
        {
          "output_type": "stream",
          "name": "stdout",
          "text": [
            "--------------------------------------------------------------------------------------------------------------------------------------------------------------------------------------------------------\n",
            "--------------------------------------------------------------------------------------------------------------------------------------------------------------------------------------------------------\n",
            "Created Adam optimizer: Adam (\n",
            "Parameter Group 0\n",
            "    amsgrad: False\n",
            "    betas: (0.9, 0.999)\n",
            "    capturable: False\n",
            "    differentiable: False\n",
            "    eps: 1e-08\n",
            "    foreach: None\n",
            "    fused: None\n",
            "    lr: 0.01\n",
            "    maximize: False\n",
            "    weight_decay: 0\n",
            ")\n",
            "Training WineClassifier(\n",
            "  (fc1): Linear(in_features=13, out_features=32, bias=True)\n",
            "  (relu): ReLU()\n",
            "  (fc2): Linear(in_features=32, out_features=3, bias=True)\n",
            ")\n",
            "Epoch [10/50], Loss: 0.0056\n",
            "Epoch [20/50], Loss: 0.0017\n",
            "Epoch [30/50], Loss: 0.0008\n",
            "Epoch [40/50], Loss: 0.0005\n",
            "Epoch [50/50], Loss: 0.0003\n"
          ]
        },
        {
          "output_type": "display_data",
          "data": {
            "text/plain": [
              "<Figure size 640x480 with 1 Axes>"
            ],
            "image/png": "[encoded data removed]"
          },
          "metadata": {}
        },
        {
          "output_type": "stream",
          "name": "stdout",
          "text": [
            "\n",
            "\n",
            "Accuracy on test set: 97.22%\n",
            "\n",
            "Sample evaluation results:\n",
            "Actual: 0, Predicted: 0\n",
            "Actual: 2, Predicted: 1\n",
            "Actual: 0, Predicted: 0\n",
            "Actual: 1, Predicted: 1\n",
            "Actual: 1, Predicted: 1\n",
            "Actual: 0, Predicted: 0\n",
            "Actual: 0, Predicted: 0\n",
            "Actual: 1, Predicted: 1\n",
            "Actual: 1, Predicted: 1\n",
            "Actual: 2, Predicted: 2\n",
            "--------------------------------------------------------------------------------------------------------------------------------------------------------------------------------------------------------\n",
            "--------------------------------------------------------------------------------------------------------------------------------------------------------------------------------------------------------\n"
          ]
        }
      ]
    },
    {
      "cell_type": "markdown",
      "source": [
        "# Student Work"
      ],
      "metadata": {
        "id": "BkQDyeJV4rNa"
      }
    },
    {
      "cell_type": "markdown",
      "source": [
        "## Part 1: Implement Additional Optimizers\n",
        "\n",
        "1. Use the code provided to implement and test **two** new optimizers. (Add the dictionary key to the \"optimizer_names\" list). The provided optimizers are just a sample of the ones available in PyTorch. For a complete list see the official [PyTorch Documentation](https://pytorch.org/docs/stable/optim.html)."
      ],
      "metadata": {
        "id": "sUQgicHJ5s1l"
      }
    },
    {
      "cell_type": "code",
      "source": [
        "# PRACTICAL CODE GOES HERE!\n",
        "\n",
        "#maybe change the name before submitting, so that they make sense\n",
        "# Use this list to house the names of your optimizers.\n",
        "optimizer_names = [\"Abracadabra\", \"R-Pop\"]\n",
        "\n",
        "# Create your optimizers dynamically by defining them as lambda function.\n",
        "def get_optimizer(name, model, learning_rate):\n",
        "    optimizers = {\n",
        "        \"Abracadabra\": lambda: optim.Adagrad(model.parameters(), lr=learning_rate),\n",
        "        \"R-Pop\": lambda: optim.Rprop(model.parameters(), lr=learning_rate),\n",
        "\n",
        "        \"SGD\": lambda: optim.SGD(model.parameters(), lr=learning_rate, momentum=0.9),\n",
        "        \"RMSprop\": lambda: optim.RMSprop(model.parameters(), lr=learning_rate),\n",
        "        \"AdamW\": lambda: optim.AdamW(model.parameters(), lr=learning_rate),\n",
        "        \"ASGD\": lambda: optim.ASGD(model.parameters(), lr=learning_rate)\n",
        "    }\n",
        "    return optimizers.get(name, lambda: None)()  # Returns None if name is invalid"
      ],
      "metadata": {
        "id": "UK73PfYB27OA"
      },
      "execution_count": 22,
      "outputs": []
    },
    {
      "cell_type": "markdown",
      "source": [
        "2. Provide a brief descripiton of each new optimizer algorithm you chose."
      ],
      "metadata": {
        "id": "0e6SEV-T-z00"
      }
    },
    {
      "cell_type": "markdown",
      "source": [
        "    Answer:\n",
        "\n",
        "    *   R-prop : faster backpropagation algorithm\n",
        "    *  Adagrad : adaptive subgradient"
      ],
      "metadata": {
        "id": "qQLOEOtiGwXP"
      }
    },
    {
      "cell_type": "markdown",
      "source": [
        "3. Train the `WineClassifier` model with each of your selected optimizers. Display the training loss graphs and test set performance. You should be able to use the same training and testing loop given in the example as a guide. Make sure to account for any variations to the learning rate you may have implemented."
      ],
      "metadata": {
        "id": "Pti9tn1t_-BY"
      }
    },
    {
      "cell_type": "code",
      "source": [
        "# PRACTICAL CODE GOES HERE!\n",
        "learninrg_rate = 0.001\n",
        "\n",
        "# Instantiate a new model for each optimizer, create the optimizer, train the model, and evaluate the model\n",
        "for name in optimizer_names:\n",
        "    print('-' * 200)\n",
        "    print('-' * 200)\n",
        "\n",
        "    # Instantiate model\n",
        "    model = WineClassifier(input_dim, hidden_dim, output_dim).to(device)\n",
        "\n",
        "    # Create Optimizer\n",
        "    optimizer = get_optimizer(name, model, learning_rate=learning_rate)\n",
        "    print(f\"Created {name} optimizer: {optimizer}\")\n",
        "\n",
        "    # Train Model\n",
        "    print(f\"Training {model}\")\n",
        "    train_model(model, train_loader, criterion, optimizer, num_epochs)\n",
        "\n",
        "    #Evaluate Model\n",
        "    print(f\"\\n\")\n",
        "    evaluate_model(model, test_loader, 10)\n",
        "\n",
        "    print('-' * 200)\n",
        "    print('-' * 200)"
      ],
      "metadata": {
        "id": "GmuBt76IBGoA",
        "colab": {
          "base_uri": "https://localhost:8080/",
          "height": 1000
        },
        "outputId": "7b4973ed-b2b5-4351-83ac-4727907e84c5"
      },
      "execution_count": 23,
      "outputs": [
        {
          "output_type": "stream",
          "name": "stdout",
          "text": [
            "--------------------------------------------------------------------------------------------------------------------------------------------------------------------------------------------------------\n",
            "--------------------------------------------------------------------------------------------------------------------------------------------------------------------------------------------------------\n",
            "Created Abracadabra optimizer: Adagrad (\n",
            "Parameter Group 0\n",
            "    differentiable: False\n",
            "    eps: 1e-10\n",
            "    foreach: None\n",
            "    fused: None\n",
            "    initial_accumulator_value: 0\n",
            "    lr: 0.01\n",
            "    lr_decay: 0\n",
            "    maximize: False\n",
            "    weight_decay: 0\n",
            ")\n",
            "Training WineClassifier(\n",
            "  (fc1): Linear(in_features=13, out_features=32, bias=True)\n",
            "  (relu): ReLU()\n",
            "  (fc2): Linear(in_features=32, out_features=3, bias=True)\n",
            ")\n",
            "Epoch [10/50], Loss: 0.1602\n",
            "Epoch [20/50], Loss: 0.0827\n",
            "Epoch [30/50], Loss: 0.0557\n",
            "Epoch [40/50], Loss: 0.0421\n",
            "Epoch [50/50], Loss: 0.0330\n"
          ]
        },
        {
          "output_type": "display_data",
          "data": {
            "text/plain": [
              "<Figure size 640x480 with 1 Axes>"
            ],
            "image/png": "[encoded data removed]"
          },
          "metadata": {}
        },
        {
          "output_type": "stream",
          "name": "stdout",
          "text": [
            "\n",
            "\n",
            "Accuracy on test set: 94.44%\n",
            "\n",
            "Sample evaluation results:\n",
            "Actual: 0, Predicted: 0\n",
            "Actual: 2, Predicted: 1\n",
            "Actual: 0, Predicted: 0\n",
            "Actual: 1, Predicted: 0\n",
            "Actual: 1, Predicted: 1\n",
            "Actual: 0, Predicted: 0\n",
            "Actual: 0, Predicted: 0\n",
            "Actual: 1, Predicted: 1\n",
            "Actual: 1, Predicted: 1\n",
            "Actual: 2, Predicted: 2\n",
            "--------------------------------------------------------------------------------------------------------------------------------------------------------------------------------------------------------\n",
            "--------------------------------------------------------------------------------------------------------------------------------------------------------------------------------------------------------\n",
            "--------------------------------------------------------------------------------------------------------------------------------------------------------------------------------------------------------\n",
            "--------------------------------------------------------------------------------------------------------------------------------------------------------------------------------------------------------\n",
            "Created R-Pop optimizer: Rprop (\n",
            "Parameter Group 0\n",
            "    capturable: False\n",
            "    differentiable: False\n",
            "    etas: (0.5, 1.2)\n",
            "    foreach: None\n",
            "    lr: 0.01\n",
            "    maximize: False\n",
            "    step_sizes: (1e-06, 50)\n",
            ")\n",
            "Training WineClassifier(\n",
            "  (fc1): Linear(in_features=13, out_features=32, bias=True)\n",
            "  (relu): ReLU()\n",
            "  (fc2): Linear(in_features=32, out_features=3, bias=True)\n",
            ")\n",
            "Epoch [10/50], Loss: 1.4137\n",
            "Epoch [20/50], Loss: 0.4026\n",
            "Epoch [30/50], Loss: 0.0100\n",
            "Epoch [40/50], Loss: 0.0003\n",
            "Epoch [50/50], Loss: 0.0000\n"
          ]
        },
        {
          "output_type": "display_data",
          "data": {
            "text/plain": [
              "<Figure size 640x480 with 1 Axes>"
            ],
            "image/png": "[encoded data removed]"
          },
          "metadata": {}
        },
        {
          "output_type": "stream",
          "name": "stdout",
          "text": [
            "\n",
            "\n",
            "Accuracy on test set: 94.44%\n",
            "\n",
            "Sample evaluation results:\n",
            "Actual: 0, Predicted: 0\n",
            "Actual: 2, Predicted: 2\n",
            "Actual: 0, Predicted: 0\n",
            "Actual: 1, Predicted: 0\n",
            "Actual: 1, Predicted: 1\n",
            "Actual: 0, Predicted: 0\n",
            "Actual: 0, Predicted: 0\n",
            "Actual: 1, Predicted: 1\n",
            "Actual: 1, Predicted: 1\n",
            "Actual: 2, Predicted: 2\n",
            "--------------------------------------------------------------------------------------------------------------------------------------------------------------------------------------------------------\n",
            "--------------------------------------------------------------------------------------------------------------------------------------------------------------------------------------------------------\n"
          ]
        }
      ]
    },
    {
      "cell_type": "markdown",
      "source": [
        "4. Do you see any performance difference during training or testing between the various optimizers? How do they compare to the `Adam` optimizer results?"
      ],
      "metadata": {
        "id": "OgzlRvPEBXjh"
      }
    },
    {
      "cell_type": "markdown",
      "source": [
        "    Answer:"
      ],
      "metadata": {
        "id": "TI7aneWnDH1k"
      }
    },
    {
      "cell_type": "markdown",
      "source": [
        "## Part 2: A Deeper Wine Classifer Network\n",
        "\n",
        "5. Create a new Wine Classifier network. Include the following:\n",
        "\n",
        "   *  Three fully connected layers\n",
        "   *  Two dropout layers"
      ],
      "metadata": {
        "id": "bsy0ML6vDMz4"
      }
    },
    {
      "cell_type": "code",
      "source": [
        "# PRACTICAL CODE GOES HERE!\n",
        "\n",
        "# Create a new Wine Classifer model\n",
        "\n",
        "class WineClassifier2(nn.Module):\n",
        "    def __init__(self, input_dim, hidden_dim, output_dim, dropout_rate=0.1):\n",
        "        super(WineClassifier2, self).__init__()\n",
        "\n",
        "        self.fc1 =  # First fully connected layer\n",
        "        self.relu =  # Activation function (ReLU helps introduce non-linearity)\n",
        "        self.dropout1 =  # Dropout layer that randomly sets a certain percentage of neurons to 0 during training\n",
        "\n",
        "        self.fc2 =   # Second Fully Connected layer\n",
        "        self.relu2 =  # Activation function (ReLU helps introduce non-linearity)\n",
        "        self.dropout2 =  # Dropout layer that randomly sets a certain percentage of neurons to 0 during training\n",
        "\n",
        "        self.fc3 = # Output Layer\n",
        "\n",
        "    def forward(self, x):\n",
        "        x =  # Apply first layer and activation\n",
        "        x =  # Apply dropout\n",
        "\n",
        "        x =  # Apply second layer and activation\n",
        "        x =  # Apply dropout\n",
        "\n",
        "        x =  # Output layer (raw logits)\n",
        "\n",
        "        return x"
      ],
      "metadata": {
        "id": "ixXPoxSiDykJ"
      },
      "execution_count": null,
      "outputs": []
    },
    {
      "cell_type": "markdown",
      "source": [
        "6. Train and test the new model with the `Adam` optimizer and the **two** optimizers you chose to implement.\n",
        "\n",
        "   Display the training loss graphs and test set performance. You should be able to use the same training and testing loop given in the example as a guide.\n",
        "\n",
        "   Reimplement or adjust hyperparameters as needed. Since you will be comparing the performance of this model to the original model it would be best to have the hyperparameters match."
      ],
      "metadata": {
        "id": "rfkCnmseH3GS"
      }
    },
    {
      "cell_type": "code",
      "source": [
        "# PRACTICAL CODE GOES HERE!\n",
        "\n",
        "# Use this list to house the names of your optimizers.\n",
        "optimizer_names = ['Adam']\n",
        "\n",
        "# Create your optimizers dynamically by defining them as lambda function.\n",
        "def get_optimizer(name, model, learning_rate):\n",
        "    optimizers = {\n",
        "    }\n",
        "    return optimizers.get(name, lambda: None)()  # Returns None if name is invalid\n",
        "\n",
        "# Set model hyperparameters\n",
        "\n",
        "input_dim =  # Number of features (13)\n",
        "hidden_dim =  # Number of neurons in the hidden layer (adjustable hyperparameter)\n",
        "output_dim =  # Number of unique wine classes (3)\n",
        "num_epochs =  # The number of times the model will pass through the dataset (adjustable hyperparameter)\n",
        "batch_size =  # Number of images per training batch\n",
        "learning_rate =  # Speed at which the model learns\n",
        "dropout_rate =  # Percentage of neurons to drop during training\n",
        "\n",
        "# Instantiate a new model for each optimizer, create the optimizer, train the model, and evaluate the model\n",
        "for name in optimizer_names:\n"
      ],
      "metadata": {
        "id": "ej93PVRaHM_6"
      },
      "execution_count": null,
      "outputs": []
    },
    {
      "cell_type": "markdown",
      "source": [
        "7. Do you see any performance difference during training or testing between the the two models? How do the same optimizers perform for each model? What could be the reason for better or worse performance. Is it what you expected?"
      ],
      "metadata": {
        "id": "umh2RVlMJJcV"
      }
    },
    {
      "cell_type": "markdown",
      "source": [
        "    Answer:"
      ],
      "metadata": {
        "id": "dwShnS6IJlO9"
      }
    },
    {
      "cell_type": "markdown",
      "source": [
        "## Part 3: Testing a Different Loss Function\n",
        "\n",
        "8. Use the original Wine Classifer as a guide to create a third Wine Classifer. This time create the model such that it can be used with negative log likelihood loss (`NLLLoss`).\n",
        "\n",
        "   [NLLLoss PyTorch Documentation](https://pytorch.org/docs/stable/generated/torch.nn.NLLLoss.html)\n",
        "\n",
        "   Hint: You'll need to implement a new activation funciton for it to work properly."
      ],
      "metadata": {
        "id": "xpKHiFwtMkDl"
      }
    },
    {
      "cell_type": "code",
      "source": [
        "# PRACTICAL CODE GOES HERE!\n",
        "\n",
        "# Implement Negative Log Likelihood Loss (NNLLLoss) here\n",
        "criterion =\n",
        "\n",
        "# Create a Wine Classifer model that uses NNLLLoss\n",
        "class WineClassifier3(nn.Module):\n",
        "    def __init__(self, input_dim, hidden_dim, output_dim):\n",
        "        super(WineClassifier3, self).__init__()\n",
        "\n",
        "\n",
        "    def forward(self, x):\n",
        "\n",
        "        return x"
      ],
      "metadata": {
        "id": "8xZOd_0dNuo8"
      },
      "execution_count": null,
      "outputs": []
    },
    {
      "cell_type": "markdown",
      "source": [
        "9. Train and test the new model with all three of the optimizer you implemented.\n",
        "\n",
        "Display the training loss graphs and test set performance. You should be able to use the same or very similar training and testing loop given in the example as a guide."
      ],
      "metadata": {
        "id": "TQuVGB3RPtAs"
      }
    },
    {
      "cell_type": "code",
      "source": [
        "# PRACTICAL CODE GOES HERE!\n",
        "\n",
        "# Set model hyperparameters\n",
        "\n",
        "input_dim = # Number of features (13)\n",
        "hidden_dim = # Number of neurons in the hidden layer (adjustable hyperparameter)\n",
        "output_dim = # Number of unique wine classes (3)\n",
        "num_epochs =  # The number of times the model will pass through the dataset (adjustable hyperparameter)\n",
        "batch_size =  # Number of images per training batch\n",
        "learning_rate = # Speed at which the model learns\n",
        "\n",
        "# Instantiate a new model for each optimizer, create the optimizer, train the model, and evaluate the model\n",
        "for name in optimizer_names:"
      ],
      "metadata": {
        "id": "cRcAY9v_Qfmj"
      },
      "execution_count": null,
      "outputs": []
    },
    {
      "cell_type": "markdown",
      "source": [
        "10. Why did you need to add to the model in order to implement the NLLLoss? How does it perform in comparison to Cross-entropy Loss? What are some of the possible reasons for your observations?"
      ],
      "metadata": {
        "id": "YWFc42FQ7Ebw"
      }
    },
    {
      "cell_type": "markdown",
      "source": [
        "    Answer:"
      ],
      "metadata": {
        "id": "-zsNKx_N7be9"
      }
    }
  ]
}