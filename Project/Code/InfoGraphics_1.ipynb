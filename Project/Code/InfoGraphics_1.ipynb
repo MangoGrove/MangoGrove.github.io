{
  "nbformat": 4,
  "nbformat_minor": 0,
  "metadata": {
    "colab": {
      "provenance": [],
      "authorship_tag": "ABX9TyMf1nZogldoka/U+nQoYDGl",
      "include_colab_link": true
    },
    "kernelspec": {
      "name": "python3",
      "display_name": "Python 3"
    },
    "language_info": {
      "name": "python"
    }
  },
  "cells": [
    {
      "cell_type": "markdown",
      "metadata": {
        "id": "view-in-github",
        "colab_type": "text"
      },
      "source": [
        "<a href=\"https://colab.research.google.com/github/MangoGrove/MangoGrove.github.io/blob/main/Project/Code/InfoGraphics_1.ipynb\" target=\"_parent\"><img src=\"https://colab.research.google.com/assets/colab-badge.svg\" alt=\"Open In Colab\"/></a>"
      ]
    },
    {
      "cell_type": "code",
      "execution_count": null,
      "metadata": {
        "id": "MZ9o4nVum46X"
      },
      "outputs": [],
      "source": [
        "import json\n",
        "import csv\n",
        "import requests\n",
        "import matplotlib as plt\n",
        "import pandas as pd\n"
      ]
    },
    {
      "cell_type": "code",
      "source": [
        "from google.colab import drive\n",
        "drive.mount('/content/drive')"
      ],
      "metadata": {
        "colab": {
          "base_uri": "https://localhost:8080/"
        },
        "id": "S4bNdE5LzqTs",
        "outputId": "a13cf657-3539-4f9a-c80a-ec91b5b0681c"
      },
      "execution_count": null,
      "outputs": [
        {
          "output_type": "stream",
          "name": "stdout",
          "text": [
            "Mounted at /content/drive\n"
          ]
        }
      ]
    },
    {
      "cell_type": "code",
      "source": [
        "\n",
        "drive_path = \"/content/drive/MyDrive/Neural_Networks_Project\"\n",
        "\n",
        "dive_path_book_content = \"/content/drive/MyDrive/Neural_Networks_Project/Book_Content\"\n",
        "\n",
        "verbGender_path = \"/content/drive/MyDrive/Neural_Networks_Project/gender_associations_dated\"\n",
        "\n",
        "sentimen_moral = \"/content/drive/MyDrive/Neural_Networks_Project/sentiment_dated\"\n",
        "\n",
        "sorted_listPath = \"/content/drive/MyDrive/Neural_Networks_Project/books_with_pub_date.json\"\n",
        "\n"
      ],
      "metadata": {
        "id": "N0M_JdWJztg9"
      },
      "execution_count": null,
      "outputs": []
    },
    {
      "cell_type": "code",
      "source": [
        "with open(sorted_listPath, \"r\") as file:\n",
        "  sorted_list = json.load(file) #can now read the file"
      ],
      "metadata": {
        "id": "Sw5As2gWOkIO"
      },
      "execution_count": null,
      "outputs": []
    },
    {
      "cell_type": "code",
      "source": [
        "import json\n",
        "from datetime import datetime\n",
        "\n",
        "# Function to parse the 'Issued' date field into a datetime object\n",
        "def parse_date(book):\n",
        "  try:\n",
        "    # If the date contains '00-00' or is otherwise incomplete, treat it as '0000-01-01' (or use another fallback)\n",
        "    date_str = book['Issued']\n",
        "    if '00-00' in date_str:  # Incomplete date\n",
        "      return datetime(0, 1, 1)  # Set a special early date (0000-01-01)\n",
        "    return datetime.strptime(date_str, \"%Y-%m-%d\")  # Otherwise, parse normally\n",
        "\n",
        "  except ValueError:\n",
        "    # If there's any error parsing the date, treat it as a far past date\n",
        "    return datetime(0, 1, 1)  # Fallback to early date if there's an error\n",
        "\n",
        "# Sort the books based on the 'Issued' date field\n",
        "sorted_books = sorted(sorted_list, key=parse_date)\n",
        "\n",
        "# Save the sorted data back to a new JSON file\n",
        "with open('sorted_books.json', 'w') as outfile:\n",
        "  json.dump(sorted_books, outfile, indent=4)\n",
        "\n",
        "print(\"Books sorted and saved to 'sorted_books.json'\")\n"
      ],
      "metadata": {
        "colab": {
          "base_uri": "https://localhost:8080/"
        },
        "id": "sxBnvPPnOZjA",
        "outputId": "d815ad08-1b35-475a-dbec-4e8bd922b86a"
      },
      "execution_count": null,
      "outputs": [
        {
          "output_type": "stream",
          "name": "stdout",
          "text": [
            "Books sorted and saved to 'sorted_books.json'\n"
          ]
        }
      ]
    },
    {
      "cell_type": "code",
      "source": [
        "sorted_books"
      ],
      "metadata": {
        "id": "1D4a8TZSOuiQ"
      },
      "execution_count": null,
      "outputs": []
    },
    {
      "cell_type": "code",
      "source": [
        "sample_csv_file = \"/content/drive/MyDrive/Neural_Networks_Project/sentiment_dated/sentiment_moral_book_1215.txt.csv\""
      ],
      "metadata": {
        "id": "ccz3tHC-7Inl"
      },
      "execution_count": null,
      "outputs": []
    },
    {
      "cell_type": "code",
      "source": [
        "df = pd.read_csv(sample_csv_file)"
      ],
      "metadata": {
        "id": "wBhyFfbJ61L7"
      },
      "execution_count": null,
      "outputs": []
    },
    {
      "cell_type": "code",
      "source": [
        "print(df.columns)"
      ],
      "metadata": {
        "id": "9Mti31dr7ZAA"
      },
      "execution_count": null,
      "outputs": []
    },
    {
      "cell_type": "code",
      "source": [
        "print(df['sentence'][0])"
      ],
      "metadata": {
        "id": "zyX-1dFf7eeA"
      },
      "execution_count": null,
      "outputs": []
    },
    {
      "cell_type": "code",
      "source": [
        "he_terms= ['he', 'him', 'his', 'himself']\n",
        "she_terms = ['she', 'her', 'hers', 'herself']"
      ],
      "metadata": {
        "id": "mJ2bI6ji8hTm"
      },
      "execution_count": null,
      "outputs": []
    },
    {
      "cell_type": "code",
      "source": [
        "female = []\n",
        "count_row = 0\n",
        "for sentence in df['sentence']:\n",
        "\n",
        "for pronoun in she_terms: # go through pronoun list\n",
        "  if pronoun in sentence:\n",
        "    if count_row in female:\n",
        "      break\n",
        "    else:\n",
        "      female.append(count_row) # append what coloumn to look at\n",
        "count_row = count_row + 1\n"
      ],
      "metadata": {
        "id": "FZ2zrKAK72zy"
      },
      "execution_count": null,
      "outputs": []
    },
    {
      "cell_type": "code",
      "source": [
        "print(female)"
      ],
      "metadata": {
        "id": "0Pr_V0ms9CNW"
      },
      "execution_count": null,
      "outputs": []
    },
    {
      "cell_type": "code",
      "source": [
        "#creat a new dataframe with these rows selected\n",
        "# Step 1: Select the rows from the DataFrame using .iloc\n",
        "new_df = df.iloc[female]\n",
        "\n",
        "# Step 2: Display the new DataFrame\n",
        "print(new_df.columns)"
      ],
      "metadata": {
        "colab": {
          "base_uri": "https://localhost:8080/"
        },
        "id": "RYt8y29WJ3u6",
        "outputId": "24b75d04-a35c-43ed-b3ff-73b1b52b8828"
      },
      "execution_count": null,
      "outputs": [
        {
          "output_type": "stream",
          "name": "stdout",
          "text": [
            "Index(['sentence', 'afinn_score', 'textblob_polarity', 'Care/Harm',\n",
            "       'Fairness/Cheating', 'Loyalty/Betrayal', 'Authority/Subversion',\n",
            "       'Sanctity/Degradation'],\n",
            "      dtype='object')\n"
          ]
        }
      ]
    },
    {
      "cell_type": "code",
      "source": [
        "import pandas as pd\n",
        "import matplotlib.pyplot as plt\n",
        "\n",
        "\n",
        "# Step 2: Select relevant columns (e.g., moral_score, gender)\n",
        "x_column = 'sentence'  # or 'moral_score', 'sentence_id', etc.\n",
        "y_column = 'textblob_polarity'\n",
        "category_column = 'textblob_polarity'  # If you want to differentiate by gender\n",
        "\n",
        "# Optional: Filter data based on a category (e.g., 'female')\n",
        "\n",
        "# Step 3: Create scatter plot\n",
        "plt.figure(figsize=(10,6))\n",
        "\n",
        "# Plot all data (if you want to see all)\n",
        "plt.scatter(new_df[x_column], new_df[y_column], label=\"All Data\", alpha=0.5)\n",
        "\n",
        "# Plot specific category (e.g., 'female')\n",
        "plt.scatter(new_df[x_column], new_df[y_column], color='red', label=\"Female\")\n",
        "\n",
        "# Step 4: Add titles, labels, and a legend\n",
        "plt.title(\"Moral Score vs. Sentence ID (Filtered by Gender)\")\n",
        "plt.xlabel(x_column)\n",
        "plt.ylabel(y_column)\n",
        "plt.legend()\n",
        "\n",
        "# Show the plot\n",
        "plt.show()\n"
      ],
      "metadata": {
        "id": "-oZgtYXGJzGE"
      },
      "execution_count": null,
      "outputs": []
    }
  ]
}